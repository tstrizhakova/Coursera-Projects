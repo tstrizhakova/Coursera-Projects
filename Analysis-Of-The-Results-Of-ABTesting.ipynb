{
 "cells": [
  {
   "cell_type": "markdown",
   "metadata": {},
   "source": [
    "## Анализ результатов АБ-теста"
   ]
  },
  {
   "cell_type": "markdown",
   "metadata": {},
   "source": [
    "В этом задании мы:\n",
    "* проанализируем АБ-тест, проведенный на реальных пользователях Яндекса\n",
    "* оценим наличие изменений в пользовательском поведении между контрольной и тестовой группами\n",
    "* определим характер этих изменений и практическую значимость вводимого изменения\n",
    "* поймем, какая из пользовательских групп в большей степени проигрывает/выигрывает от тестируемого изменения"
   ]
  },
  {
   "cell_type": "markdown",
   "metadata": {},
   "source": [
    "**Описание  данных:**\n",
    "\n",
    "* **userID**:  уникальный идентификатор пользователя, данные с повторениями\n",
    "* **browser**:  браузер, который использовал userID\n",
    "* **slot**: в каком статусе пользователь участвовал в исследовании (exp = видел измененную страницу, control  = видел неизменную страницу)\n",
    "* **n_clicks**: количество кликов, которые пользоваль совершил за n_queries\n",
    "* **n_queries**: количество запросов, который совершил userID, пользуясь браузером browser\n",
    "* **n_nonclk_queries**: количество запросов пользователя, в которых  им не было совершено ни одного клика\n",
    "\n",
    "Основная метрика, на которой мы сосредоточимся в этой работе — это количество пользовательских кликов на web-странице в зависимости от тестируемого изменения этой страницы. "
   ]
  },
  {
   "cell_type": "code",
   "execution_count": 1,
   "metadata": {},
   "outputs": [],
   "source": [
    "import numpy as np\n",
    "import pandas as pd\n",
    "import scipy\n",
    "from scipy import stats\n",
    "from statsmodels.sandbox.stats.multicomp import multipletests\n",
    "import matplotlib.pyplot as plt"
   ]
  },
  {
   "cell_type": "code",
   "execution_count": 10,
   "metadata": {},
   "outputs": [],
   "source": [
    "data = pd.read_csv('ab_browser_test.csv')"
   ]
  },
  {
   "cell_type": "code",
   "execution_count": 11,
   "metadata": {},
   "outputs": [
    {
     "data": {
      "text/html": [
       "<div>\n",
       "<style scoped>\n",
       "    .dataframe tbody tr th:only-of-type {\n",
       "        vertical-align: middle;\n",
       "    }\n",
       "\n",
       "    .dataframe tbody tr th {\n",
       "        vertical-align: top;\n",
       "    }\n",
       "\n",
       "    .dataframe thead th {\n",
       "        text-align: right;\n",
       "    }\n",
       "</style>\n",
       "<table border=\"1\" class=\"dataframe\">\n",
       "  <thead>\n",
       "    <tr style=\"text-align: right;\">\n",
       "      <th></th>\n",
       "      <th>userID</th>\n",
       "      <th>browser</th>\n",
       "      <th>slot</th>\n",
       "      <th>n_clicks</th>\n",
       "      <th>n_queries</th>\n",
       "      <th>n_nonclk_queries</th>\n",
       "    </tr>\n",
       "  </thead>\n",
       "  <tbody>\n",
       "    <tr>\n",
       "      <th>0</th>\n",
       "      <td>1</td>\n",
       "      <td>Browser #2</td>\n",
       "      <td>exp</td>\n",
       "      <td>23</td>\n",
       "      <td>32</td>\n",
       "      <td>19</td>\n",
       "    </tr>\n",
       "    <tr>\n",
       "      <th>1</th>\n",
       "      <td>3</td>\n",
       "      <td>Browser #4</td>\n",
       "      <td>exp</td>\n",
       "      <td>3</td>\n",
       "      <td>4</td>\n",
       "      <td>2</td>\n",
       "    </tr>\n",
       "    <tr>\n",
       "      <th>2</th>\n",
       "      <td>5</td>\n",
       "      <td>Browser #4</td>\n",
       "      <td>exp</td>\n",
       "      <td>29</td>\n",
       "      <td>35</td>\n",
       "      <td>16</td>\n",
       "    </tr>\n",
       "    <tr>\n",
       "      <th>3</th>\n",
       "      <td>6</td>\n",
       "      <td>Browser #4</td>\n",
       "      <td>control</td>\n",
       "      <td>12</td>\n",
       "      <td>6</td>\n",
       "      <td>0</td>\n",
       "    </tr>\n",
       "    <tr>\n",
       "      <th>4</th>\n",
       "      <td>7</td>\n",
       "      <td>Browser #4</td>\n",
       "      <td>exp</td>\n",
       "      <td>54</td>\n",
       "      <td>68</td>\n",
       "      <td>30</td>\n",
       "    </tr>\n",
       "    <tr>\n",
       "      <th>5</th>\n",
       "      <td>8</td>\n",
       "      <td>Browser #4</td>\n",
       "      <td>control</td>\n",
       "      <td>4</td>\n",
       "      <td>4</td>\n",
       "      <td>1</td>\n",
       "    </tr>\n",
       "    <tr>\n",
       "      <th>6</th>\n",
       "      <td>9</td>\n",
       "      <td>Browser #4</td>\n",
       "      <td>exp</td>\n",
       "      <td>6</td>\n",
       "      <td>3</td>\n",
       "      <td>1</td>\n",
       "    </tr>\n",
       "    <tr>\n",
       "      <th>7</th>\n",
       "      <td>10</td>\n",
       "      <td>Browser #4</td>\n",
       "      <td>control</td>\n",
       "      <td>22</td>\n",
       "      <td>15</td>\n",
       "      <td>2</td>\n",
       "    </tr>\n",
       "    <tr>\n",
       "      <th>8</th>\n",
       "      <td>13</td>\n",
       "      <td>Browser #14</td>\n",
       "      <td>exp</td>\n",
       "      <td>2</td>\n",
       "      <td>4</td>\n",
       "      <td>3</td>\n",
       "    </tr>\n",
       "    <tr>\n",
       "      <th>9</th>\n",
       "      <td>15</td>\n",
       "      <td>Browser #14</td>\n",
       "      <td>control</td>\n",
       "      <td>2</td>\n",
       "      <td>2</td>\n",
       "      <td>0</td>\n",
       "    </tr>\n",
       "    <tr>\n",
       "      <th>10</th>\n",
       "      <td>16</td>\n",
       "      <td>Browser #17</td>\n",
       "      <td>exp</td>\n",
       "      <td>7</td>\n",
       "      <td>5</td>\n",
       "      <td>2</td>\n",
       "    </tr>\n",
       "    <tr>\n",
       "      <th>11</th>\n",
       "      <td>19</td>\n",
       "      <td>Browser #20</td>\n",
       "      <td>exp</td>\n",
       "      <td>4</td>\n",
       "      <td>5</td>\n",
       "      <td>2</td>\n",
       "    </tr>\n",
       "    <tr>\n",
       "      <th>12</th>\n",
       "      <td>21</td>\n",
       "      <td>Browser #22</td>\n",
       "      <td>exp</td>\n",
       "      <td>2</td>\n",
       "      <td>4</td>\n",
       "      <td>2</td>\n",
       "    </tr>\n",
       "    <tr>\n",
       "      <th>13</th>\n",
       "      <td>23</td>\n",
       "      <td>Browser #4</td>\n",
       "      <td>control</td>\n",
       "      <td>3</td>\n",
       "      <td>1</td>\n",
       "      <td>0</td>\n",
       "    </tr>\n",
       "    <tr>\n",
       "      <th>14</th>\n",
       "      <td>24</td>\n",
       "      <td>Browser #22</td>\n",
       "      <td>exp</td>\n",
       "      <td>21</td>\n",
       "      <td>15</td>\n",
       "      <td>6</td>\n",
       "    </tr>\n",
       "    <tr>\n",
       "      <th>15</th>\n",
       "      <td>25</td>\n",
       "      <td>Browser #4</td>\n",
       "      <td>control</td>\n",
       "      <td>36</td>\n",
       "      <td>59</td>\n",
       "      <td>34</td>\n",
       "    </tr>\n",
       "    <tr>\n",
       "      <th>16</th>\n",
       "      <td>26</td>\n",
       "      <td>Browser #4</td>\n",
       "      <td>exp</td>\n",
       "      <td>10</td>\n",
       "      <td>20</td>\n",
       "      <td>13</td>\n",
       "    </tr>\n",
       "    <tr>\n",
       "      <th>17</th>\n",
       "      <td>27</td>\n",
       "      <td>Browser #22</td>\n",
       "      <td>exp</td>\n",
       "      <td>25</td>\n",
       "      <td>32</td>\n",
       "      <td>17</td>\n",
       "    </tr>\n",
       "    <tr>\n",
       "      <th>18</th>\n",
       "      <td>28</td>\n",
       "      <td>Browser #4</td>\n",
       "      <td>exp</td>\n",
       "      <td>72</td>\n",
       "      <td>97</td>\n",
       "      <td>64</td>\n",
       "    </tr>\n",
       "    <tr>\n",
       "      <th>19</th>\n",
       "      <td>29</td>\n",
       "      <td>Browser #2</td>\n",
       "      <td>control</td>\n",
       "      <td>9</td>\n",
       "      <td>9</td>\n",
       "      <td>3</td>\n",
       "    </tr>\n",
       "  </tbody>\n",
       "</table>\n",
       "</div>"
      ],
      "text/plain": [
       "    userID      browser     slot  n_clicks  n_queries  n_nonclk_queries\n",
       "0        1   Browser #2      exp        23         32                19\n",
       "1        3   Browser #4      exp         3          4                 2\n",
       "2        5   Browser #4      exp        29         35                16\n",
       "3        6   Browser #4  control        12          6                 0\n",
       "4        7   Browser #4      exp        54         68                30\n",
       "5        8   Browser #4  control         4          4                 1\n",
       "6        9   Browser #4      exp         6          3                 1\n",
       "7       10   Browser #4  control        22         15                 2\n",
       "8       13  Browser #14      exp         2          4                 3\n",
       "9       15  Browser #14  control         2          2                 0\n",
       "10      16  Browser #17      exp         7          5                 2\n",
       "11      19  Browser #20      exp         4          5                 2\n",
       "12      21  Browser #22      exp         2          4                 2\n",
       "13      23   Browser #4  control         3          1                 0\n",
       "14      24  Browser #22      exp        21         15                 6\n",
       "15      25   Browser #4  control        36         59                34\n",
       "16      26   Browser #4      exp        10         20                13\n",
       "17      27  Browser #22      exp        25         32                17\n",
       "18      28   Browser #4      exp        72         97                64\n",
       "19      29   Browser #2  control         9          9                 3"
      ]
     },
     "execution_count": 11,
     "metadata": {},
     "output_type": "execute_result"
    }
   ],
   "source": [
    "data.head(20)"
   ]
  },
  {
   "cell_type": "code",
   "execution_count": 12,
   "metadata": {},
   "outputs": [
    {
     "name": "stdout",
     "output_type": "stream",
     "text": [
      "<class 'pandas.core.frame.DataFrame'>\n",
      "RangeIndex: 566134 entries, 0 to 566133\n",
      "Data columns (total 6 columns):\n",
      " #   Column            Non-Null Count   Dtype \n",
      "---  ------            --------------   ----- \n",
      " 0   userID            566134 non-null  int64 \n",
      " 1   browser           566134 non-null  object\n",
      " 2   slot              566134 non-null  object\n",
      " 3   n_clicks          566134 non-null  int64 \n",
      " 4   n_queries         566134 non-null  int64 \n",
      " 5   n_nonclk_queries  566134 non-null  int64 \n",
      "dtypes: int64(4), object(2)\n",
      "memory usage: 25.9+ MB\n"
     ]
    }
   ],
   "source": [
    "data.info()"
   ]
  },
  {
   "cell_type": "markdown",
   "metadata": {},
   "source": [
    "Посчитаем, насколько в группе ***exp*** больше пользовательских кликов по сравнению с группой ***control*** в процентах от числа кликов в контрольной группе. Результат округлим до 3-го знака после точки."
   ]
  },
  {
   "cell_type": "code",
   "execution_count": 13,
   "metadata": {},
   "outputs": [
    {
     "name": "stdout",
     "output_type": "stream",
     "text": [
      "1.614\n"
     ]
    }
   ],
   "source": [
    "exp_clicks_sum = data[data['slot'] == 'exp']['n_clicks'].sum()\n",
    "control_clicks_sum = data[data['slot'] == 'control']['n_clicks'].sum()\n",
    "print(np.round(((exp_clicks_sum - control_clicks_sum)/control_clicks_sum)* 100, 3))"
   ]
  },
  {
   "cell_type": "markdown",
   "metadata": {},
   "source": [
    "Попробуем посмотреть более внимательно на разницу между двумя группами (control и exp) относительно количества пользовательских кликов. Построим с помощью бутстрепа 95% доверительный интервал для средних значений медиан количества кликов в каждой из двух групп."
   ]
  },
  {
   "cell_type": "code",
   "execution_count": 14,
   "metadata": {},
   "outputs": [],
   "source": [
    "def get_bootstrap_samples(data, n_samples):\n",
    "    indices = np.random.randint(0, len(data), (n_samples, len(data)))\n",
    "    samples = data[indices]\n",
    "    return samples\n",
    "\n",
    "def stat_intervals(stat, alpha):\n",
    "    boundaries = np.percentile(stat, [100 * alpha / 2., 100 * (1 - alpha / 2.)])\n",
    "    return boundaries"
   ]
  },
  {
   "cell_type": "code",
   "execution_count": 15,
   "metadata": {},
   "outputs": [
    {
     "name": "stdout",
     "output_type": "stream",
     "text": [
      "95% confidence interval for the exp mean repair clicks: [11.5086867  11.66089388]\n",
      "95% confidence interval for the control mean repair clicks: [11.20795095 11.35742732]\n"
     ]
    }
   ],
   "source": [
    "# построим бутстреп для средних\n",
    "np.random.seed(0)\n",
    "\n",
    "exp_clicks = data[data['slot'] == 'exp']['n_clicks'].values\n",
    "control_clicks = data[data['slot'] == 'control']['n_clicks'].values\n",
    "\n",
    "exp_mean_scores = list(map(np.mean, get_bootstrap_samples(exp_clicks, 1000)))\n",
    "control_mean_scores = list(map(np.mean, get_bootstrap_samples(control_clicks, 1000)))\n",
    "\n",
    "print('95% confidence interval for the exp mean repair clicks:',  stat_intervals(exp_mean_scores, 0.05))\n",
    "print('95% confidence interval for the control mean repair clicks:',  stat_intervals(control_mean_scores, 0.05))"
   ]
  },
  {
   "cell_type": "code",
   "execution_count": 16,
   "metadata": {},
   "outputs": [
    {
     "name": "stdout",
     "output_type": "stream",
     "text": [
      "95% confidence interval for the exp median repair clicks: [5. 5.]\n",
      "95% confidence interval for the control median repair clicks: [4. 4.]\n"
     ]
    }
   ],
   "source": [
    "# построим бутстреп для медиан\n",
    "np.random.seed(0)\n",
    "\n",
    "exp_clicks = data[data['slot'] == 'exp']['n_clicks'].values\n",
    "control_clicks = data[data['slot'] == 'control']['n_clicks'].values\n",
    "\n",
    "exp_median_scores = list(map(np.median, get_bootstrap_samples(exp_clicks, 1000)))\n",
    "control_median_scores = list(map(np.median, get_bootstrap_samples(control_clicks, 1000)))\n",
    "\n",
    "print('95% confidence interval for the exp median repair clicks:',  stat_intervals(exp_median_scores, 0.05))\n",
    "print('95% confidence interval for the control median repair clicks:',  stat_intervals(control_median_scores, 0.05))"
   ]
  },
  {
   "cell_type": "markdown",
   "metadata": {},
   "source": [
    "Мы видим, что 95% доверительный интервал для разности средних не содержит ноль, что может говорить о том, что средние отличаются статистически значимо. То же можно сказать и про медианы."
   ]
  },
  {
   "cell_type": "markdown",
   "metadata": {},
   "source": [
    "Проверим, можем ли мы применить t-критерий Стьюдента. Так как мы не знаем истинного распределения генеральной совокупности, мы можем применить бутстреп, чтобы понять, как распределены среднее значение и выборочная дисперсия.\n",
    "Для этого получим из данных n псевдовыборок. По каждой из этих выборок посчитаем среднее и сумму квадратов отклонения от выборочного среднего. Затем построим для получившегося вектора qq-plot для нормального распределения и для хи-квадрат распределения."
   ]
  },
  {
   "cell_type": "code",
   "execution_count": 17,
   "metadata": {},
   "outputs": [],
   "source": [
    "np.random.seed(0)\n",
    "n_boot_samples = 500\n",
    "control_samples = get_bootstrap_samples(control_clicks, n_boot_samples)\n",
    "control_samples_mean = list(map(np.mean, control_samples))\n",
    "control_boot_chi_squared = list(map(np.std, control_samples))"
   ]
  },
  {
   "cell_type": "code",
   "execution_count": 18,
   "metadata": {},
   "outputs": [
    {
     "data": {
      "image/png": "[encoded data removed]",
      "text/plain": [
       "<Figure size 432x288 with 1 Axes>"
      ]
     },
     "metadata": {
      "needs_background": "light"
     },
     "output_type": "display_data"
    }
   ],
   "source": [
    "chi_plot = scipy.stats.probplot(control_boot_chi_squared, dist='chi2', \n",
    "                     sparams=(n_boot_samples-1), plot=plt)"
   ]
  },
  {
   "cell_type": "code",
   "execution_count": 19,
   "metadata": {},
   "outputs": [
    {
     "data": {
      "image/png": "[encoded data removed]",
      "text/plain": [
       "<Figure size 432x288 with 1 Axes>"
      ]
     },
     "metadata": {
      "needs_background": "light"
     },
     "output_type": "display_data"
    }
   ],
   "source": [
    "norm_plot = scipy.stats.probplot(control_samples_mean, dist='norm', plot=plt)"
   ]
  },
  {
   "cell_type": "code",
   "execution_count": 20,
   "metadata": {},
   "outputs": [
    {
     "name": "stdout",
     "output_type": "stream",
     "text": [
      "Mean R^2: 0.997975\n"
     ]
    }
   ],
   "source": [
    "print('Mean R^2: %f' % norm_plot[1][2])"
   ]
  },
  {
   "cell_type": "code",
   "execution_count": 21,
   "metadata": {},
   "outputs": [
    {
     "name": "stdout",
     "output_type": "stream",
     "text": [
      "Chi square R^2: 0.998640\n"
     ]
    }
   ],
   "source": [
    "print('Chi square R^2: %f' % chi_plot[1][2])"
   ]
  },
  {
   "cell_type": "markdown",
   "metadata": {},
   "source": [
    "В качестве аналога t-критерия воспользуемся тестом Манна-Уитни - на достаточно обширном классе распределений он является асимптотически более эффективным, чем t-критерий, и при этом не требует параметрических предположений о характере распределения.\n",
    "Для реализации теста разделим выборку на 2 части, соответствующие ***control***  и ***exp*** группам. Преобразуем данные к виду, чтобы каждому пользователю  соответствовало суммарное значение его кликов. С помощью критерия Манна-Уитни проверим гипотезу о равенстве средних."
   ]
  },
  {
   "cell_type": "markdown",
   "metadata": {},
   "source": [
    "* Н0: средние равны\n",
    "* Н1: средние не равны\n",
    "\n",
    "Уровень значимости alpha = 0.05."
   ]
  },
  {
   "cell_type": "code",
   "execution_count": 41,
   "metadata": {},
   "outputs": [
    {
     "name": "stdout",
     "output_type": "stream",
     "text": [
      "Mann-Whitney criterion pvalue result: 0.0000\n"
     ]
    },
    {
     "data": {
      "text/plain": [
       "MannwhitneyuResult(statistic=38901259929.0, pvalue=8.694294377520879e-75)"
      ]
     },
     "execution_count": 41,
     "metadata": {},
     "output_type": "execute_result"
    }
   ],
   "source": [
    "n_click_control_user = data[data['slot']=='control'].groupby(by='userID')['n_clicks'].agg(np.sum)\n",
    "n_click_exp_user = data[data['slot']=='exp'].groupby(by='userID')['n_clicks'].agg(np.sum)\n",
    "\n",
    "mann_whitney_stat = stats.mannwhitneyu(n_click_control_user, n_click_exp_user, alternative='two-sided')\n",
    "\n",
    "print('Mann-Whitney criterion pvalue result: %.4f' % np.round(mann_whitney_stat[1], 4))\n",
    "mann_whitney_stat"
   ]
  },
  {
   "cell_type": "markdown",
   "metadata": {},
   "source": [
    "Получившееся значение достигаемого уровня значимости свидетельствует о статистической значимости отличий между двумя выборками."
   ]
  },
  {
   "cell_type": "markdown",
   "metadata": {},
   "source": [
    "Проверим, для какого из браузеров наиболее сильно выражено отличие между количеством кликов в контрольной и экспериментальной группах. Для этого применим критерий Манна-Уитни между control и exp группами, сделаем поправку Холма-Бонферрони на множественную проверку с alpha = 0.05. В качестве ответа посчитаем количество незначимых изменений с точки зрения результатов, полученных после введения коррекции."
   ]
  },
  {
   "cell_type": "code",
   "execution_count": 42,
   "metadata": {},
   "outputs": [
    {
     "name": "stdout",
     "output_type": "stream",
     "text": [
      "Browser #20 is statistically valuable: False\n",
      "Browser #2 is statistically valuable: False\n",
      "Browser #14 is statistically valuable: True\n",
      "Browser #22 is statistically valuable: False\n",
      "Browser #4 is statistically valuable: False\n",
      "Browser #17 is statistically valuable: False\n",
      "Count of not rejected hypothesis: 5\n"
     ]
    }
   ],
   "source": [
    "exp_data = data[data['slot']=='exp']\n",
    "control_data = data[data['slot']=='control']\n",
    "exp_browser_names = set(exp_data['browser'])\n",
    "exp_browser_data = {}\n",
    "\n",
    "for browser in exp_browser_names:\n",
    "    exp_browser_data[browser] = exp_data[exp_data['browser']==browser]\n",
    "\n",
    "control_browser_names = set(control_data['browser'])\n",
    "control_browser_data = {}\n",
    "\n",
    "for browser in control_browser_names:\n",
    "    control_browser_data[browser] = control_data[control_data['browser']==browser]\n",
    "\n",
    "all_browser_names = exp_browser_names.union(control_browser_names)\n",
    "mann_whitney_pvalues = []\n",
    "\n",
    "for browser in all_browser_names:\n",
    "    exp_user_clicks = exp_browser_data[browser]['n_clicks'].values\n",
    "    control_user_clicks = control_browser_data[browser]['n_clicks'].values\n",
    "    mann_whitney_stat = stats.mannwhitneyu(control_user_clicks, exp_user_clicks, alternative='two-sided')\n",
    "    mann_whitney_pvalues.append(mann_whitney_stat.pvalue)\n",
    "mann_whitney_pvalues_corrected = multipletests(mann_whitney_pvalues, alpha = 0.05, method = 'holm')\n",
    "\n",
    "for i in zip(all_browser_names, mann_whitney_pvalues_corrected[0]):\n",
    "    print('%s is statistically valuable: %r' % i)\n",
    "\n",
    "l = list(filter(lambda x: not(x), mann_whitney_pvalues_corrected[0]))\n",
    "print('Count of not rejected hypothesis: %i' % len(l))"
   ]
  },
  {
   "cell_type": "markdown",
   "metadata": {},
   "source": [
    "По результату видим, что это браузер под номером 14."
   ]
  },
  {
   "cell_type": "markdown",
   "metadata": {},
   "source": [
    "Для каждого браузера в каждой из двух групп посчитаем долю запросов, в которых пользователь не кликнул ни разу."
   ]
  },
  {
   "cell_type": "code",
   "execution_count": 43,
   "metadata": {},
   "outputs": [
    {
     "name": "stdout",
     "output_type": "stream",
     "text": [
      "Browser #20 no click queries percentage: exp=38.977376\tcontrol=40.540485\tdiff=1.563108\n",
      "Browser #2 no click queries percentage: exp=44.982747\tcontrol=45.962747\tdiff=0.980000\n",
      "Browser #14 no click queries percentage: exp=43.755617\tcontrol=57.590411\tdiff=13.834794\n",
      "Browser #22 no click queries percentage: exp=39.853947\tcontrol=40.593977\tdiff=0.740029\n",
      "Browser #4 no click queries percentage: exp=45.142942\tcontrol=46.970930\tdiff=1.827988\n",
      "Browser #17 no click queries percentage: exp=36.937413\tcontrol=36.299367\tdiff=-0.638046\n"
     ]
    }
   ],
   "source": [
    "for browser in all_browser_names:\n",
    "    exp_no_click_count = exp_browser_data[browser]['n_nonclk_queries'].sum()\n",
    "    exp_queries_count = exp_browser_data[browser]['n_queries'].sum()\n",
    "    control_no_click_count = control_browser_data[browser]['n_nonclk_queries'].sum()\n",
    "    control_queries_count = control_browser_data[browser]['n_queries'].sum()\n",
    "    exp_percent = exp_no_click_count / exp_queries_count * 100\n",
    "    control_percent = control_no_click_count / control_queries_count * 100\n",
    "    dif = control_percent - exp_percent\n",
    "    print('%s no click queries percentage: exp=%f\\tcontrol=%f\\tdiff=%f' % (browser, exp_percent, control_percent, dif))"
   ]
  },
  {
   "cell_type": "markdown",
   "metadata": {},
   "source": [
    "Тестируемое изменение можно предложить к внедрению только на тот сегмент пользователей, где локализуется изменение, то есть для того браузера, для которого  доля некликнутых запросов уменьшилась больше всего. Для прочих браузеров мы не обладаем никакой информацией относительно влияния тестируемого изменения на поведение пользователей. "
   ]
  },
  {
   "cell_type": "code",
   "execution_count": null,
   "metadata": {},
   "outputs": [],
   "source": []
  }
 ],
 "metadata": {
  "kernelspec": {
   "display_name": "Python 3",
   "language": "python",
   "name": "python3"
  },
  "language_info": {
   "codemirror_mode": {
    "name": "ipython",
    "version": 3
   },
   "file_extension": ".py",
   "mimetype": "text/x-python",
   "name": "python",
   "nbconvert_exporter": "python",
   "pygments_lexer": "ipython3",
   "version": "3.8.10"
  }
 },
 "nbformat": 4,
 "nbformat_minor": 4
}
